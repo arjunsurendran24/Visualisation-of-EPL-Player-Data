{
 "cells": [
  {
   "cell_type": "markdown",
   "metadata": {},
   "source": [
    "In this notebook I am exploring the relations between various factors such as Market Value, Age, Position, Clubs."
   ]
  },
  {
   "cell_type": "code",
   "execution_count": 2,
   "metadata": {},
   "outputs": [],
   "source": [
    "#Importing Libraries\n",
    "import pandas as pd\n",
    "import numpy as np\n",
    "from plotly.offline import plot, iplot, init_notebook_mode\n",
    "import plotly.graph_objs as go\n",
    "\n",
    "# Make plotly work with Jupyter notebook\n",
    "init_notebook_mode(connected = True)"
   ]
  },
  {
   "cell_type": "code",
   "execution_count": 3,
   "metadata": {
    "collapsed": true
   },
   "outputs": [],
   "source": [
    "#Importing dataset\n",
    "epl = pd.read_csv('epldata_final.csv')"
   ]
  },
  {
   "cell_type": "markdown",
   "metadata": {},
   "source": [
    "Lets get an overview of the data."
   ]
  },
  {
   "cell_type": "code",
   "execution_count": 93,
   "metadata": {},
   "outputs": [
    {
     "name": "stdout",
     "output_type": "stream",
     "text": [
      "<class 'pandas.core.frame.DataFrame'>\n",
      "RangeIndex: 461 entries, 0 to 460\n",
      "Data columns (total 17 columns):\n",
      "name            461 non-null object\n",
      "club            461 non-null object\n",
      "age             461 non-null int64\n",
      "position        461 non-null object\n",
      "position_cat    461 non-null int64\n",
      "market_value    461 non-null float64\n",
      "page_views      461 non-null int64\n",
      "fpl_value       461 non-null float64\n",
      "fpl_sel         461 non-null object\n",
      "fpl_points      461 non-null int64\n",
      "region          460 non-null float64\n",
      "nationality     461 non-null object\n",
      "new_foreign     461 non-null int64\n",
      "age_cat         461 non-null int64\n",
      "club_id         461 non-null int64\n",
      "big_club        461 non-null int64\n",
      "new_signing     461 non-null int64\n",
      "dtypes: float64(3), int64(9), object(5)\n",
      "memory usage: 61.3+ KB\n"
     ]
    }
   ],
   "source": [
    "epl.info()"
   ]
  },
  {
   "cell_type": "code",
   "execution_count": 94,
   "metadata": {},
   "outputs": [
    {
     "data": {
      "text/plain": [
       "count         461\n",
       "unique         20\n",
       "top       Everton\n",
       "freq           28\n",
       "Name: club, dtype: object"
      ]
     },
     "execution_count": 94,
     "metadata": {},
     "output_type": "execute_result"
    }
   ],
   "source": [
    "epl['club'].describe()"
   ]
  },
  {
   "cell_type": "markdown",
   "metadata": {},
   "source": [
    "So this dataset contains 461 players from 20 different clubs. The clubs are"
   ]
  },
  {
   "cell_type": "code",
   "execution_count": 95,
   "metadata": {},
   "outputs": [
    {
     "name": "stdout",
     "output_type": "stream",
     "text": [
      "('Bournemouth', 'Liverpool', 'Leicester+City', 'Burnley', 'Huddersfield', 'Crystal+Palace', 'Brighton+and+Hove', 'Newcastle+United', 'Stoke+City', 'Tottenham', 'Swansea', 'Manchester+United', 'West+Ham', 'Southampton', 'Watford', 'West+Brom', 'Arsenal', 'Manchester+City', 'Everton', 'Chelsea')\n"
     ]
    }
   ],
   "source": [
    "clubs = tuple(set(epl['club']))\n",
    "print(clubs)"
   ]
  },
  {
   "cell_type": "code",
   "execution_count": 26,
   "metadata": {},
   "outputs": [],
   "source": [
    "value = []\n",
    "for club in clubs:\n",
    "    value.append(sum(epl['market_value'].loc[epl['club']==club]))"
   ]
  },
  {
   "cell_type": "code",
   "execution_count": null,
   "metadata": {
    "collapsed": true
   },
   "outputs": [],
   "source": [
    "Now lets visualise some of these data"
   ]
  },
  {
   "cell_type": "code",
   "execution_count": 38,
   "metadata": {},
   "outputs": [
    {
     "data": {
      "text/html": [
       "<script>requirejs.config({paths: { 'plotly': ['https://cdn.plot.ly/plotly-latest.min']},});if(!window.Plotly) {{require(['plotly'],function(plotly) {window.Plotly=plotly;});}}</script>"
      ],
      "text/vnd.plotly.v1+html": [
       "<script>requirejs.config({paths: { 'plotly': ['https://cdn.plot.ly/plotly-latest.min']},});if(!window.Plotly) {{require(['plotly'],function(plotly) {window.Plotly=plotly;});}}</script>"
      ]
     },
     "metadata": {},
     "output_type": "display_data"
    },
    {
     "data": {
      "text/plain": [
       "'file:///home/arjun/Kaggle/EPL data/temp-plot.html'"
      ]
     },
     "execution_count": 38,
     "metadata": {},
     "output_type": "execute_result"
    }
   ],
   "source": [
    "keys= clubs\n",
    "values=value\n",
    "\n",
    "plot({\n",
    "    \"data\": [go.Bar(x=keys, y=values)],\n",
    "    \"layout\": go.Layout(title=\"Market Value of players\")\n",
    "})"
   ]
  },
  {
   "cell_type": "code",
   "execution_count": 40,
   "metadata": {},
   "outputs": [],
   "source": [
    "average_age = []\n",
    "for club in clubs:\n",
    "    average_age.append(np.mean(epl['age'].loc[epl['club']==club]))"
   ]
  },
  {
   "cell_type": "code",
   "execution_count": 97,
   "metadata": {},
   "outputs": [
    {
     "ename": "PlotlyDictKeyError",
     "evalue": "'color' is not allowed in 'bar'\n\nPath To Error: ['color']\n\nValid attributes for 'bar' at path [] under parents []:\n\n    ['bardir', 'base', 'basesrc', 'customdata', 'customdatasrc', 'dx',\n    'dy', 'error_x', 'error_y', 'hoverinfo', 'hoverinfosrc', 'hoverlabel',\n    'hovertext', 'hovertextsrc', 'ids', 'idssrc', 'insidetextfont',\n    'legendgroup', 'marker', 'name', 'offset', 'offsetsrc', 'opacity',\n    'orientation', 'outsidetextfont', 'r', 'rsrc', 'showlegend', 'stream',\n    't', 'text', 'textfont', 'textposition', 'textpositionsrc', 'textsrc',\n    'tsrc', 'type', 'uid', 'visible', 'width', 'widthsrc', 'x', 'x0',\n    'xaxis', 'xcalendar', 'xsrc', 'y', 'y0', 'yaxis', 'ycalendar', 'ysrc']\n\nRun `<bar-object>.help('attribute')` on any of the above.\n'<bar-object>' is the object at []",
     "output_type": "error",
     "traceback": [
      "\u001b[0;31m---------------------------------------------------------------------------\u001b[0m",
      "\u001b[0;31mPlotlyDictKeyError\u001b[0m                        Traceback (most recent call last)",
      "\u001b[0;32m<ipython-input-97-e779e158be8d>\u001b[0m in \u001b[0;36m<module>\u001b[0;34m()\u001b[0m\n\u001b[1;32m      3\u001b[0m \u001b[0;34m\u001b[0m\u001b[0m\n\u001b[1;32m      4\u001b[0m plot({\n\u001b[0;32m----> 5\u001b[0;31m     \u001b[0;34m\"data\"\u001b[0m\u001b[0;34m:\u001b[0m \u001b[0;34m[\u001b[0m\u001b[0mgo\u001b[0m\u001b[0;34m.\u001b[0m\u001b[0mBar\u001b[0m\u001b[0;34m(\u001b[0m\u001b[0mx\u001b[0m\u001b[0;34m=\u001b[0m\u001b[0mkeys\u001b[0m\u001b[0;34m,\u001b[0m \u001b[0my\u001b[0m\u001b[0;34m=\u001b[0m\u001b[0mvalues\u001b[0m\u001b[0;34m,\u001b[0m \u001b[0mcolor\u001b[0m \u001b[0;34m=\u001b[0m \u001b[0;34m'red'\u001b[0m\u001b[0;34m)\u001b[0m\u001b[0;34m]\u001b[0m\u001b[0;34m,\u001b[0m\u001b[0;34m\u001b[0m\u001b[0m\n\u001b[0m\u001b[1;32m      6\u001b[0m     \u001b[0;34m\"layout\"\u001b[0m\u001b[0;34m:\u001b[0m \u001b[0mgo\u001b[0m\u001b[0;34m.\u001b[0m\u001b[0mLayout\u001b[0m\u001b[0;34m(\u001b[0m\u001b[0mtitle\u001b[0m\u001b[0;34m=\u001b[0m\u001b[0;34m\"Average Age\"\u001b[0m\u001b[0;34m)\u001b[0m\u001b[0;34m\u001b[0m\u001b[0m\n\u001b[1;32m      7\u001b[0m })\n",
      "\u001b[0;32m/usr/local/lib/python3.5/dist-packages/plotly/graph_objs/graph_objs.py\u001b[0m in \u001b[0;36m__init__\u001b[0;34m(self, *args, **kwargs)\u001b[0m\n\u001b[1;32m    375\u001b[0m         \u001b[0md\u001b[0m \u001b[0;34m=\u001b[0m \u001b[0;34m{\u001b[0m\u001b[0mkey\u001b[0m\u001b[0;34m:\u001b[0m \u001b[0mval\u001b[0m \u001b[0;32mfor\u001b[0m \u001b[0mkey\u001b[0m\u001b[0;34m,\u001b[0m \u001b[0mval\u001b[0m \u001b[0;32min\u001b[0m \u001b[0mdict\u001b[0m\u001b[0;34m(\u001b[0m\u001b[0;34m*\u001b[0m\u001b[0margs\u001b[0m\u001b[0;34m,\u001b[0m \u001b[0;34m**\u001b[0m\u001b[0mkwargs\u001b[0m\u001b[0;34m)\u001b[0m\u001b[0;34m.\u001b[0m\u001b[0mitems\u001b[0m\u001b[0;34m(\u001b[0m\u001b[0;34m)\u001b[0m\u001b[0;34m}\u001b[0m\u001b[0;34m\u001b[0m\u001b[0m\n\u001b[1;32m    376\u001b[0m         \u001b[0;32mfor\u001b[0m \u001b[0mkey\u001b[0m\u001b[0;34m,\u001b[0m \u001b[0mval\u001b[0m \u001b[0;32min\u001b[0m \u001b[0md\u001b[0m\u001b[0;34m.\u001b[0m\u001b[0mitems\u001b[0m\u001b[0;34m(\u001b[0m\u001b[0;34m)\u001b[0m\u001b[0;34m:\u001b[0m\u001b[0;34m\u001b[0m\u001b[0m\n\u001b[0;32m--> 377\u001b[0;31m             \u001b[0mself\u001b[0m\u001b[0;34m.\u001b[0m\u001b[0m__setitem__\u001b[0m\u001b[0;34m(\u001b[0m\u001b[0mkey\u001b[0m\u001b[0;34m,\u001b[0m \u001b[0mval\u001b[0m\u001b[0;34m,\u001b[0m \u001b[0m_raise\u001b[0m\u001b[0;34m=\u001b[0m\u001b[0m_raise\u001b[0m\u001b[0;34m)\u001b[0m\u001b[0;34m\u001b[0m\u001b[0m\n\u001b[0m\u001b[1;32m    378\u001b[0m \u001b[0;34m\u001b[0m\u001b[0m\n\u001b[1;32m    379\u001b[0m     \u001b[0;32mdef\u001b[0m \u001b[0m__dir__\u001b[0m\u001b[0;34m(\u001b[0m\u001b[0mself\u001b[0m\u001b[0;34m)\u001b[0m\u001b[0;34m:\u001b[0m\u001b[0;34m\u001b[0m\u001b[0m\n",
      "\u001b[0;32m/usr/local/lib/python3.5/dist-packages/plotly/graph_objs/graph_objs.py\u001b[0m in \u001b[0;36m__setitem__\u001b[0;34m(self, key, value, _raise)\u001b[0m\n\u001b[1;32m    426\u001b[0m                 \u001b[0;32mif\u001b[0m \u001b[0m_raise\u001b[0m\u001b[0;34m:\u001b[0m\u001b[0;34m\u001b[0m\u001b[0m\n\u001b[1;32m    427\u001b[0m                     \u001b[0mpath\u001b[0m \u001b[0;34m=\u001b[0m \u001b[0mself\u001b[0m\u001b[0;34m.\u001b[0m\u001b[0m_get_path\u001b[0m\u001b[0;34m(\u001b[0m\u001b[0;34m)\u001b[0m \u001b[0;34m+\u001b[0m \u001b[0;34m(\u001b[0m\u001b[0mkey\u001b[0m\u001b[0;34m,\u001b[0m \u001b[0;34m)\u001b[0m\u001b[0;34m\u001b[0m\u001b[0m\n\u001b[0;32m--> 428\u001b[0;31m                     \u001b[0;32mraise\u001b[0m \u001b[0mexceptions\u001b[0m\u001b[0;34m.\u001b[0m\u001b[0mPlotlyDictKeyError\u001b[0m\u001b[0;34m(\u001b[0m\u001b[0mself\u001b[0m\u001b[0;34m,\u001b[0m \u001b[0mpath\u001b[0m\u001b[0;34m)\u001b[0m\u001b[0;34m\u001b[0m\u001b[0m\n\u001b[0m\u001b[1;32m    429\u001b[0m                 \u001b[0;32mreturn\u001b[0m\u001b[0;34m\u001b[0m\u001b[0m\n\u001b[1;32m    430\u001b[0m \u001b[0;34m\u001b[0m\u001b[0m\n",
      "\u001b[0;31mPlotlyDictKeyError\u001b[0m: 'color' is not allowed in 'bar'\n\nPath To Error: ['color']\n\nValid attributes for 'bar' at path [] under parents []:\n\n    ['bardir', 'base', 'basesrc', 'customdata', 'customdatasrc', 'dx',\n    'dy', 'error_x', 'error_y', 'hoverinfo', 'hoverinfosrc', 'hoverlabel',\n    'hovertext', 'hovertextsrc', 'ids', 'idssrc', 'insidetextfont',\n    'legendgroup', 'marker', 'name', 'offset', 'offsetsrc', 'opacity',\n    'orientation', 'outsidetextfont', 'r', 'rsrc', 'showlegend', 'stream',\n    't', 'text', 'textfont', 'textposition', 'textpositionsrc', 'textsrc',\n    'tsrc', 'type', 'uid', 'visible', 'width', 'widthsrc', 'x', 'x0',\n    'xaxis', 'xcalendar', 'xsrc', 'y', 'y0', 'yaxis', 'ycalendar', 'ysrc']\n\nRun `<bar-object>.help('attribute')` on any of the above.\n'<bar-object>' is the object at []"
     ]
    }
   ],
   "source": [
    "keys= clubs\n",
    "values=average_age\n",
    "\n",
    "plot({\n",
    "    \"data\": [go.Bar(x=keys, y=values)],\n",
    "    \"layout\": go.Layout(title=\"Average Age\")\n",
    "})"
   ]
  },
  {
   "cell_type": "code",
   "execution_count": 49,
   "metadata": {},
   "outputs": [],
   "source": [
    "country, counts = np.unique(epl['nationality'], return_counts=True)"
   ]
  },
  {
   "cell_type": "code",
   "execution_count": 52,
   "metadata": {},
   "outputs": [
    {
     "data": {
      "text/plain": [
       "'file:///home/arjun/Kaggle/EPL data/temp-plot.html'"
      ]
     },
     "execution_count": 52,
     "metadata": {},
     "output_type": "execute_result"
    }
   ],
   "source": [
    "keys= country\n",
    "values=counts\n",
    "\n",
    "plot({\n",
    "    \"data\": [go.Bar(x=keys, y=values)],\n",
    "    \"layout\": go.Layout(title=\"Nationality of Players\")\n",
    "})"
   ]
  },
  {
   "cell_type": "code",
   "execution_count": 53,
   "metadata": {
    "collapsed": true
   },
   "outputs": [],
   "source": [
    "c_value = []\n",
    "for c in country:\n",
    "    c_value.append(sum(epl['market_value'].loc[epl['nationality']==c]))"
   ]
  },
  {
   "cell_type": "code",
   "execution_count": 66,
   "metadata": {},
   "outputs": [
    {
     "data": {
      "text/plain": [
       "'file:///home/arjun/Kaggle/EPL data/temp-plot.html'"
      ]
     },
     "execution_count": 66,
     "metadata": {},
     "output_type": "execute_result"
    }
   ],
   "source": [
    "keys= country\n",
    "values=c_value\n",
    "\n",
    "plot({\n",
    "    \"data\": [go.Bar(x=keys, y=values)],\n",
    "    \"layout\": go.Layout(title=\"Market Value vs Nationality\")\n",
    "})"
   ]
  },
  {
   "cell_type": "code",
   "execution_count": 68,
   "metadata": {},
   "outputs": [],
   "source": [
    "c_value_mean = []\n",
    "for c,v in zip(c_value,counts):\n",
    "    c_value_mean.append(c/v)"
   ]
  },
  {
   "cell_type": "code",
   "execution_count": 69,
   "metadata": {},
   "outputs": [
    {
     "data": {
      "text/plain": [
       "'file:///home/arjun/Kaggle/EPL data/temp-plot.html'"
      ]
     },
     "execution_count": 69,
     "metadata": {},
     "output_type": "execute_result"
    }
   ],
   "source": [
    "keys= country\n",
    "values=c_value_mean\n",
    "\n",
    "plot({\n",
    "    \"data\": [go.Bar(x=keys, y=values)],\n",
    "    \"layout\": go.Layout(title=\"Mean Market Value vs Nationality\")\n",
    "})"
   ]
  },
  {
   "cell_type": "code",
   "execution_count": 70,
   "metadata": {
    "collapsed": true
   },
   "outputs": [],
   "source": [
    "c_value_median = []\n",
    "for c in country:\n",
    "    c_value_median.append(np.median(epl['market_value'].loc[epl['nationality']==c]))"
   ]
  },
  {
   "cell_type": "code",
   "execution_count": 71,
   "metadata": {},
   "outputs": [
    {
     "data": {
      "text/plain": [
       "'file:///home/arjun/Kaggle/EPL data/temp-plot.html'"
      ]
     },
     "execution_count": 71,
     "metadata": {},
     "output_type": "execute_result"
    }
   ],
   "source": [
    "keys= country\n",
    "values=c_value_median\n",
    "\n",
    "plot({\n",
    "    \"data\": [go.Bar(x=keys, y=values)],\n",
    "    \"layout\": go.Layout(title=\"Median Market Value vs Nationality\")\n",
    "})"
   ]
  },
  {
   "cell_type": "code",
   "execution_count": 72,
   "metadata": {
    "collapsed": true
   },
   "outputs": [],
   "source": [
    "c_value_max = []\n",
    "for c in country:\n",
    "    c_value_max.append(max(epl['market_value'].loc[epl['nationality']==c]))"
   ]
  },
  {
   "cell_type": "code",
   "execution_count": 73,
   "metadata": {},
   "outputs": [
    {
     "data": {
      "text/plain": [
       "'file:///home/arjun/Kaggle/EPL data/temp-plot.html'"
      ]
     },
     "execution_count": 73,
     "metadata": {},
     "output_type": "execute_result"
    }
   ],
   "source": [
    "keys= country\n",
    "values=c_value_max\n",
    "\n",
    "plot({\n",
    "    \"data\": [go.Bar(x=keys, y=values)],\n",
    "    \"layout\": go.Layout(title=\"Median Market Value vs Nationality\")\n",
    "})"
   ]
  },
  {
   "cell_type": "code",
   "execution_count": 81,
   "metadata": {},
   "outputs": [],
   "source": [
    "ages = tuple(set(epl['age']))\n",
    "age_value_mean = []\n",
    "age_value_median = []\n",
    "age_value_max = []\n",
    "for age in ages:\n",
    "    age_value_mean.append(np.mean(epl['market_value'].loc[epl['age']==age]))\n",
    "    age_value_median.append(np.median(epl['market_value'].loc[epl['age']==age]))\n",
    "    age_value_max.append(max(epl['market_value'].loc[epl['age']==age]))"
   ]
  },
  {
   "cell_type": "code",
   "execution_count": 77,
   "metadata": {},
   "outputs": [
    {
     "data": {
      "text/plain": [
       "'file:///home/arjun/Kaggle/EPL data/temp-plot.html'"
      ]
     },
     "execution_count": 77,
     "metadata": {},
     "output_type": "execute_result"
    }
   ],
   "source": [
    "keys= ages\n",
    "values=age_value_mean\n",
    "\n",
    "plot({\n",
    "    \"data\": [go.Bar(x=keys, y=values)],\n",
    "    \"layout\": go.Layout(title=\"Median Market Value vs Age\")\n",
    "})"
   ]
  },
  {
   "cell_type": "code",
   "execution_count": 78,
   "metadata": {},
   "outputs": [
    {
     "data": {
      "text/plain": [
       "'file:///home/arjun/Kaggle/EPL data/temp-plot.html'"
      ]
     },
     "execution_count": 78,
     "metadata": {},
     "output_type": "execute_result"
    }
   ],
   "source": [
    "keys= ages\n",
    "values=age_value_median\n",
    "\n",
    "plot({\n",
    "    \"data\": [go.Bar(x=keys, y=values)],\n",
    "    \"layout\": go.Layout(title=\"Median Market Value vs Age\")\n",
    "})"
   ]
  },
  {
   "cell_type": "code",
   "execution_count": 82,
   "metadata": {},
   "outputs": [
    {
     "data": {
      "text/plain": [
       "'file:///home/arjun/Kaggle/EPL data/temp-plot.html'"
      ]
     },
     "execution_count": 82,
     "metadata": {},
     "output_type": "execute_result"
    }
   ],
   "source": [
    "keys= ages\n",
    "values=age_value_max\n",
    "\n",
    "plot({\n",
    "    \"data\": [go.Bar(x=keys, y=values)],\n",
    "    \"layout\": go.Layout(title=\"Max Market Value vs Age\")\n",
    "})"
   ]
  },
  {
   "cell_type": "code",
   "execution_count": 91,
   "metadata": {
    "collapsed": true
   },
   "outputs": [],
   "source": [
    "positions, p_counts = np.unique(epl['position'], return_counts=True)\n",
    "position_value_mean = []\n",
    "position_value_median = []\n",
    "position_value_max = []\n",
    "for p in positions:\n",
    "    position_value_mean.append(np.mean(epl['market_value'].loc[epl['position']==p]))\n",
    "    position_value_median.append(np.median(epl['market_value'].loc[epl['position']==p]))\n",
    "    position_value_max.append(max(epl['market_value'].loc[epl['position']==p]))"
   ]
  },
  {
   "cell_type": "code",
   "execution_count": 84,
   "metadata": {},
   "outputs": [
    {
     "data": {
      "text/plain": [
       "'file:///home/arjun/Kaggle/EPL data/temp-plot.html'"
      ]
     },
     "execution_count": 84,
     "metadata": {},
     "output_type": "execute_result"
    }
   ],
   "source": [
    "keys= positions\n",
    "values=position_value_mean\n",
    "\n",
    "plot({\n",
    "    \"data\": [go.Bar(x=keys, y=values)],\n",
    "    \"layout\": go.Layout(title=\"Mean Market Value vs Position\")\n",
    "})"
   ]
  },
  {
   "cell_type": "code",
   "execution_count": 85,
   "metadata": {},
   "outputs": [
    {
     "data": {
      "text/plain": [
       "'file:///home/arjun/Kaggle/EPL data/temp-plot.html'"
      ]
     },
     "execution_count": 85,
     "metadata": {},
     "output_type": "execute_result"
    }
   ],
   "source": [
    "keys= positions\n",
    "values=position_value_median\n",
    "\n",
    "plot({\n",
    "    \"data\": [go.Bar(x=keys, y=values)],\n",
    "    \"layout\": go.Layout(title=\"Median Market Value vs Position\")\n",
    "})"
   ]
  },
  {
   "cell_type": "code",
   "execution_count": 86,
   "metadata": {},
   "outputs": [
    {
     "data": {
      "text/plain": [
       "'file:///home/arjun/Kaggle/EPL data/temp-plot.html'"
      ]
     },
     "execution_count": 86,
     "metadata": {},
     "output_type": "execute_result"
    }
   ],
   "source": [
    "keys= positions\n",
    "values=position_value_max\n",
    "\n",
    "plot({\n",
    "    \"data\": [go.Bar(x=keys, y=values)],\n",
    "    \"layout\": go.Layout(title=\"Maximum Market Value vs Position\")\n",
    "})"
   ]
  },
  {
   "cell_type": "code",
   "execution_count": 87,
   "metadata": {
    "collapsed": true
   },
   "outputs": [],
   "source": [
    "position_age_mean = []\n",
    "position_age_median = []\n",
    "position_age_max = []\n",
    "for p in positions:\n",
    "    position_age_mean.append(np.mean(epl['age'].loc[epl['position']==p]))\n",
    "    position_age_median.append(np.median(epl['age'].loc[epl['position']==p]))\n",
    "    position_age_max.append(max(epl['age'].loc[epl['position']==p]))"
   ]
  },
  {
   "cell_type": "code",
   "execution_count": 88,
   "metadata": {},
   "outputs": [
    {
     "data": {
      "text/plain": [
       "'file:///home/arjun/Kaggle/EPL data/temp-plot.html'"
      ]
     },
     "execution_count": 88,
     "metadata": {},
     "output_type": "execute_result"
    }
   ],
   "source": [
    "keys= positions\n",
    "values=position_age_mean\n",
    "\n",
    "plot({\n",
    "    \"data\": [go.Bar(x=keys, y=values)],\n",
    "    \"layout\": go.Layout(title=\"Mean Age vs Position\")\n",
    "})"
   ]
  },
  {
   "cell_type": "code",
   "execution_count": 89,
   "metadata": {},
   "outputs": [
    {
     "data": {
      "text/plain": [
       "'file:///home/arjun/Kaggle/EPL data/temp-plot.html'"
      ]
     },
     "execution_count": 89,
     "metadata": {},
     "output_type": "execute_result"
    }
   ],
   "source": [
    "keys= positions\n",
    "values=position_age_median\n",
    "\n",
    "plot({\n",
    "    \"data\": [go.Bar(x=keys, y=values)],\n",
    "    \"layout\": go.Layout(title=\"Median Age vs Position\")\n",
    "})"
   ]
  },
  {
   "cell_type": "code",
   "execution_count": 90,
   "metadata": {},
   "outputs": [
    {
     "data": {
      "text/plain": [
       "'file:///home/arjun/Kaggle/EPL data/temp-plot.html'"
      ]
     },
     "execution_count": 90,
     "metadata": {},
     "output_type": "execute_result"
    }
   ],
   "source": [
    "keys= positions\n",
    "values=position_age_max\n",
    "\n",
    "plot({\n",
    "    \"data\": [go.Bar(x=keys, y=values)],\n",
    "    \"layout\": go.Layout(title=\"Max Age vs Position\")\n",
    "})"
   ]
  },
  {
   "cell_type": "code",
   "execution_count": 92,
   "metadata": {},
   "outputs": [
    {
     "data": {
      "text/plain": [
       "'file:///home/arjun/Kaggle/EPL data/temp-plot.html'"
      ]
     },
     "execution_count": 92,
     "metadata": {},
     "output_type": "execute_result"
    }
   ],
   "source": [
    "keys= positions\n",
    "values=p_counts\n",
    "\n",
    "plot({\n",
    "    \"data\": [go.Bar(x=keys, y=values)],\n",
    "    \"layout\": go.Layout(title=\"Number of Players in Each Position\")\n",
    "})"
   ]
  },
  {
   "cell_type": "code",
   "execution_count": null,
   "metadata": {
    "collapsed": true
   },
   "outputs": [],
   "source": []
  }
 ],
 "metadata": {
  "kernelspec": {
   "display_name": "Python 3",
   "language": "python",
   "name": "python3"
  },
  "language_info": {
   "codemirror_mode": {
    "name": "ipython",
    "version": 3
   },
   "file_extension": ".py",
   "mimetype": "text/x-python",
   "name": "python",
   "nbconvert_exporter": "python",
   "pygments_lexer": "ipython3",
   "version": "3.5.2"
  }
 },
 "nbformat": 4,
 "nbformat_minor": 2
}
